{
 "cells": [
  {
   "attachments": {},
   "cell_type": "markdown",
   "metadata": {},
   "source": [
    "# MLP Basic Example "
   ]
  },
  {
   "attachments": {},
   "cell_type": "markdown",
   "metadata": {},
   "source": [
    "#### Learning how to classify iris flowers based on a vector of features"
   ]
  },
  {
   "attachments": {},
   "cell_type": "markdown",
   "metadata": {},
   "source": [
    "Imports"
   ]
  },
  {
   "cell_type": "code",
   "execution_count": 1,
   "metadata": {},
   "outputs": [],
   "source": [
    "import deeplib\n",
    "from deeplib.models import Model, Trainer\n",
    "from deeplib.layers import Dense, Softmax, Relu\n",
    "from deeplib.utils import split_dataset, DataLoader, one_hot_encode\n",
    "from deeplib.losses import CrossEntropyLoss, MeanAbsoluteError\n",
    "from deeplib.optimizers import GD\n",
    "\n",
    "import numpy as np\n",
    "import pandas as pd"
   ]
  },
  {
   "cell_type": "code",
   "execution_count": 2,
   "metadata": {},
   "outputs": [],
   "source": [
    "# Training\n",
    "epochs = 100\n",
    "batch_size = 2\n",
    "learning_rate = 0.001\n",
    "val_split = 0.2\n",
    "test_split = 0.2"
   ]
  },
  {
   "attachments": {},
   "cell_type": "markdown",
   "metadata": {},
   "source": [
    "Load Data"
   ]
  },
  {
   "cell_type": "code",
   "execution_count": 3,
   "metadata": {},
   "outputs": [
    {
     "data": {
      "text/html": [
       "<div>\n",
       "<style scoped>\n",
       "    .dataframe tbody tr th:only-of-type {\n",
       "        vertical-align: middle;\n",
       "    }\n",
       "\n",
       "    .dataframe tbody tr th {\n",
       "        vertical-align: top;\n",
       "    }\n",
       "\n",
       "    .dataframe thead th {\n",
       "        text-align: right;\n",
       "    }\n",
       "</style>\n",
       "<table border=\"1\" class=\"dataframe\">\n",
       "  <thead>\n",
       "    <tr style=\"text-align: right;\">\n",
       "      <th></th>\n",
       "      <th>sepal_length</th>\n",
       "      <th>sepal_width</th>\n",
       "      <th>petal_length</th>\n",
       "      <th>petal_width</th>\n",
       "      <th>class</th>\n",
       "    </tr>\n",
       "  </thead>\n",
       "  <tbody>\n",
       "    <tr>\n",
       "      <th>0</th>\n",
       "      <td>5.1</td>\n",
       "      <td>3.5</td>\n",
       "      <td>1.4</td>\n",
       "      <td>0.2</td>\n",
       "      <td>iris_setosa</td>\n",
       "    </tr>\n",
       "    <tr>\n",
       "      <th>1</th>\n",
       "      <td>4.9</td>\n",
       "      <td>3.0</td>\n",
       "      <td>1.4</td>\n",
       "      <td>0.2</td>\n",
       "      <td>iris_setosa</td>\n",
       "    </tr>\n",
       "    <tr>\n",
       "      <th>2</th>\n",
       "      <td>4.7</td>\n",
       "      <td>3.2</td>\n",
       "      <td>1.3</td>\n",
       "      <td>0.2</td>\n",
       "      <td>iris_setosa</td>\n",
       "    </tr>\n",
       "    <tr>\n",
       "      <th>3</th>\n",
       "      <td>4.6</td>\n",
       "      <td>3.1</td>\n",
       "      <td>1.5</td>\n",
       "      <td>0.2</td>\n",
       "      <td>iris_setosa</td>\n",
       "    </tr>\n",
       "    <tr>\n",
       "      <th>4</th>\n",
       "      <td>5.0</td>\n",
       "      <td>3.6</td>\n",
       "      <td>1.4</td>\n",
       "      <td>0.2</td>\n",
       "      <td>iris_setosa</td>\n",
       "    </tr>\n",
       "  </tbody>\n",
       "</table>\n",
       "</div>"
      ],
      "text/plain": [
       "   sepal_length  sepal_width  petal_length   petal_width        class\n",
       "0           5.1          3.5           1.4           0.2  iris_setosa\n",
       "1           4.9          3.0           1.4           0.2  iris_setosa\n",
       "2           4.7          3.2           1.3           0.2  iris_setosa\n",
       "3           4.6          3.1           1.5           0.2  iris_setosa\n",
       "4           5.0          3.6           1.4           0.2  iris_setosa"
      ]
     },
     "execution_count": 3,
     "metadata": {},
     "output_type": "execute_result"
    }
   ],
   "source": [
    "dataset = pd.read_csv('./data/iris_flowers.csv')\n",
    "dataset.head()"
   ]
  },
  {
   "cell_type": "code",
   "execution_count": 4,
   "metadata": {},
   "outputs": [
    {
     "name": "stdout",
     "output_type": "stream",
     "text": [
      "Samples: 150\n",
      "Num Classes: 3\n",
      "Num Features: 4\n"
     ]
    }
   ],
   "source": [
    "y_df = dataset['class']\n",
    "X_df = dataset.drop('class', axis=1)\n",
    "num_features = len(X_df.columns)\n",
    "num_classes = y_df.nunique()\n",
    "X = X_df.values\n",
    "y = y_df.values\n",
    "y = one_hot_encode(y)\n",
    "print(\"Samples:\", len(y))\n",
    "print(\"Num Classes:\", num_classes)\n",
    "print(\"Num Features:\", num_features)"
   ]
  },
  {
   "cell_type": "code",
   "execution_count": 5,
   "metadata": {},
   "outputs": [
    {
     "data": {
      "text/html": [
       "<div>\n",
       "<style scoped>\n",
       "    .dataframe tbody tr th:only-of-type {\n",
       "        vertical-align: middle;\n",
       "    }\n",
       "\n",
       "    .dataframe tbody tr th {\n",
       "        vertical-align: top;\n",
       "    }\n",
       "\n",
       "    .dataframe thead th {\n",
       "        text-align: right;\n",
       "    }\n",
       "</style>\n",
       "<table border=\"1\" class=\"dataframe\">\n",
       "  <thead>\n",
       "    <tr style=\"text-align: right;\">\n",
       "      <th></th>\n",
       "      <th>sepal_length</th>\n",
       "      <th>sepal_width</th>\n",
       "      <th>petal_length</th>\n",
       "      <th>petal_width</th>\n",
       "    </tr>\n",
       "  </thead>\n",
       "  <tbody>\n",
       "    <tr>\n",
       "      <th>0</th>\n",
       "      <td>5.1</td>\n",
       "      <td>3.5</td>\n",
       "      <td>1.4</td>\n",
       "      <td>0.2</td>\n",
       "    </tr>\n",
       "    <tr>\n",
       "      <th>1</th>\n",
       "      <td>4.9</td>\n",
       "      <td>3.0</td>\n",
       "      <td>1.4</td>\n",
       "      <td>0.2</td>\n",
       "    </tr>\n",
       "    <tr>\n",
       "      <th>2</th>\n",
       "      <td>4.7</td>\n",
       "      <td>3.2</td>\n",
       "      <td>1.3</td>\n",
       "      <td>0.2</td>\n",
       "    </tr>\n",
       "    <tr>\n",
       "      <th>3</th>\n",
       "      <td>4.6</td>\n",
       "      <td>3.1</td>\n",
       "      <td>1.5</td>\n",
       "      <td>0.2</td>\n",
       "    </tr>\n",
       "    <tr>\n",
       "      <th>4</th>\n",
       "      <td>5.0</td>\n",
       "      <td>3.6</td>\n",
       "      <td>1.4</td>\n",
       "      <td>0.2</td>\n",
       "    </tr>\n",
       "  </tbody>\n",
       "</table>\n",
       "</div>"
      ],
      "text/plain": [
       "   sepal_length  sepal_width  petal_length   petal_width\n",
       "0           5.1          3.5           1.4           0.2\n",
       "1           4.9          3.0           1.4           0.2\n",
       "2           4.7          3.2           1.3           0.2\n",
       "3           4.6          3.1           1.5           0.2\n",
       "4           5.0          3.6           1.4           0.2"
      ]
     },
     "execution_count": 5,
     "metadata": {},
     "output_type": "execute_result"
    }
   ],
   "source": [
    "X_df.head()"
   ]
  },
  {
   "attachments": {},
   "cell_type": "markdown",
   "metadata": {},
   "source": [
    "Normalize values"
   ]
  },
  {
   "cell_type": "code",
   "execution_count": 6,
   "metadata": {},
   "outputs": [
    {
     "name": "stdout",
     "output_type": "stream",
     "text": [
      "(150, 4)\n",
      "1.0 0.0\n"
     ]
    }
   ],
   "source": [
    "for i in range(len(X)):\n",
    "    array = X[i]\n",
    "    X[i, :] = (array - np.min(array)) / (np.max(array) - np.min(array))\n",
    "print(X.shape)\n",
    "print(np.max(X), np.min(X))"
   ]
  },
  {
   "attachments": {},
   "cell_type": "markdown",
   "metadata": {},
   "source": [
    "Split into train and test"
   ]
  },
  {
   "cell_type": "code",
   "execution_count": 7,
   "metadata": {},
   "outputs": [
    {
     "name": "stdout",
     "output_type": "stream",
     "text": [
      "Training Samples: 96\n",
      "Validation Samples: 24\n",
      "Test Samples: 30\n"
     ]
    }
   ],
   "source": [
    "(X_train, y_train), (X_test, y_test), (X_val, y_val) = \\\n",
    "    split_dataset(X, y, test_split=test_split, val_split=val_split, shuffle=True)\n",
    "print(\"Training Samples:\", len(X_train))\n",
    "print(\"Validation Samples:\", len(X_val))\n",
    "print(\"Test Samples:\", len(X_test))"
   ]
  },
  {
   "attachments": {},
   "cell_type": "markdown",
   "metadata": {},
   "source": [
    "Define Model Architecture"
   ]
  },
  {
   "cell_type": "code",
   "execution_count": 8,
   "metadata": {},
   "outputs": [],
   "source": [
    "class MultiLayerPerceptron(Model):\n",
    "    \n",
    "    def __init__(self) -> None:\n",
    "        super().__init__()\n",
    "        input_size = num_features\n",
    "        output_size = num_classes\n",
    "\n",
    "        self.add(Dense(input_size, 4))\n",
    "        self.add(Relu())\n",
    "        self.add(Dense(4, 3))\n",
    "        self.add(Relu())\n",
    "        self.add(Dense(3, output_size))\n",
    "        self.add(Softmax())"
   ]
  },
  {
   "attachments": {},
   "cell_type": "markdown",
   "metadata": {},
   "source": [
    "Train the model"
   ]
  },
  {
   "cell_type": "code",
   "execution_count": 9,
   "metadata": {},
   "outputs": [
    {
     "name": "stdout",
     "output_type": "stream",
     "text": [
      "EPOCH 1/100 loss: 0.22045886809622758 accuracy: 0.3958333333333333\n",
      "\n",
      "EPOCH 2/100 loss: 0.22027973057179698 accuracy: 0.3958333333333333\n",
      "\n",
      "EPOCH 3/100 loss: 0.22012739903107395 accuracy: 0.3958333333333333\n",
      "\n",
      "EPOCH 4/100 loss: 0.21998607696745676 accuracy: 0.3958333333333333\n",
      "\n",
      "EPOCH 5/100 loss: 0.2198579015599024 accuracy: 0.3958333333333333\n",
      "\n",
      "EPOCH 6/100 loss: 0.21973548684893454 accuracy: 0.3958333333333333\n",
      "\n",
      "EPOCH 7/100 loss: 0.21961831039130253 accuracy: 0.3958333333333333\n",
      "\n",
      "EPOCH 8/100 loss: 0.21950589701499482 accuracy: 0.3958333333333333\n",
      "\n",
      "EPOCH 9/100 loss: 0.2193978132515095 accuracy: 0.3958333333333333\n",
      "\n",
      "EPOCH 10/100 loss: 0.21929366255164384 accuracy: 0.3958333333333333\n",
      "\n",
      "EPOCH 11/100 loss: 0.2191930811566987 accuracy: 0.3958333333333333\n",
      "\n",
      "EPOCH 12/100 loss: 0.2190957345203833 accuracy: 0.3958333333333333\n",
      "\n",
      "EPOCH 13/100 loss: 0.21900131419542088 accuracy: 0.3958333333333333\n",
      "\n",
      "EPOCH 14/100 loss: 0.21890953511390146 accuracy: 0.3958333333333333\n",
      "\n",
      "EPOCH 15/100 loss: 0.21882013320258634 accuracy: 0.3958333333333333\n",
      "\n",
      "EPOCH 16/100 loss: 0.218732863284238 accuracy: 0.3958333333333333\n",
      "\n",
      "EPOCH 17/100 loss: 0.21864749722410362 accuracy: 0.3958333333333333\n",
      "\n",
      "EPOCH 18/100 loss: 0.21856382228726903 accuracy: 0.3958333333333333\n",
      "\n",
      "EPOCH 19/100 loss: 0.2184816396780306 accuracy: 0.3958333333333333\n",
      "\n",
      "EPOCH 20/100 loss: 0.21840076323690205 accuracy: 0.3958333333333333\n",
      "\n",
      "EPOCH 21/100 loss: 0.21832101827458927 accuracy: 0.3958333333333333\n",
      "\n",
      "EPOCH 22/100 loss: 0.21824224052535277 accuracy: 0.3958333333333333\n",
      "\n",
      "EPOCH 23/100 loss: 0.2181642752047487 accuracy: 0.3958333333333333\n",
      "\n",
      "EPOCH 24/100 loss: 0.21808697615890213 accuracy: 0.3958333333333333\n",
      "\n",
      "EPOCH 25/100 loss: 0.2180102050942738 accuracy: 0.3958333333333333\n",
      "\n",
      "EPOCH 26/100 loss: 0.21793383087841103 accuracy: 0.3958333333333333\n",
      "\n",
      "EPOCH 27/100 loss: 0.21785772890346325 accuracy: 0.3958333333333333\n",
      "\n",
      "EPOCH 28/100 loss: 0.2177817805053347 accuracy: 0.3958333333333333\n",
      "\n",
      "EPOCH 29/100 loss: 0.21770587243228198 accuracy: 0.3958333333333333\n",
      "\n",
      "EPOCH 30/100 loss: 0.21762989635755078 accuracy: 0.3958333333333333\n",
      "\n",
      "EPOCH 31/100 loss: 0.21755374843132583 accuracy: 0.3958333333333333\n",
      "\n",
      "EPOCH 32/100 loss: 0.21747732886785473 accuracy: 0.3958333333333333\n",
      "\n",
      "EPOCH 33/100 loss: 0.21740054156409347 accuracy: 0.3958333333333333\n",
      "\n",
      "EPOCH 34/100 loss: 0.217323293746664 accuracy: 0.3958333333333333\n",
      "\n",
      "EPOCH 35/100 loss: 0.21724549564427756 accuracy: 0.3958333333333333\n",
      "\n",
      "EPOCH 36/100 loss: 0.21716706018310247 accuracy: 0.3958333333333333\n",
      "\n",
      "EPOCH 37/100 loss: 0.21708790270283349 accuracy: 0.3958333333333333\n",
      "\n",
      "EPOCH 38/100 loss: 0.21700794069146315 accuracy: 0.3958333333333333\n",
      "\n",
      "EPOCH 39/100 loss: 0.21692709353696862 accuracy: 0.3958333333333333\n",
      "\n",
      "EPOCH 40/100 loss: 0.21684528229431063 accuracy: 0.3958333333333333\n",
      "\n",
      "EPOCH 41/100 loss: 0.2167624294663062 accuracy: 0.3958333333333333\n",
      "\n",
      "EPOCH 42/100 loss: 0.2166784587970787 accuracy: 0.3958333333333333\n",
      "\n",
      "EPOCH 43/100 loss: 0.2165932950769145 accuracy: 0.3958333333333333\n",
      "\n",
      "EPOCH 44/100 loss: 0.2165068639574683 accuracy: 0.3958333333333333\n",
      "\n",
      "EPOCH 45/100 loss: 0.21641909177635457 accuracy: 0.3958333333333333\n",
      "\n",
      "EPOCH 46/100 loss: 0.21632990539025396 accuracy: 0.3958333333333333\n",
      "\n",
      "EPOCH 47/100 loss: 0.21623923201573755 accuracy: 0.3958333333333333\n",
      "\n",
      "EPOCH 48/100 loss: 0.21614962597553797 accuracy: 0.3958333333333333\n",
      "\n",
      "EPOCH 49/100 loss: 0.21605586314349498 accuracy: 0.3958333333333333\n",
      "\n",
      "EPOCH 50/100 loss: 0.21596071727708196 accuracy: 0.3958333333333333\n",
      "\n",
      "EPOCH 51/100 loss: 0.21586410700629025 accuracy: 0.3958333333333333\n",
      "\n",
      "EPOCH 52/100 loss: 0.21576595174074967 accuracy: 0.3958333333333333\n",
      "\n",
      "EPOCH 53/100 loss: 0.21566617146755165 accuracy: 0.3958333333333333\n",
      "\n",
      "EPOCH 54/100 loss: 0.21556468655979458 accuracy: 0.3958333333333333\n",
      "\n",
      "EPOCH 55/100 loss: 0.21546342026771548 accuracy: 0.3958333333333333\n",
      "\n",
      "EPOCH 56/100 loss: 0.2153572910652367 accuracy: 0.3958333333333333\n",
      "\n",
      "EPOCH 57/100 loss: 0.21524957267602365 accuracy: 0.3958333333333333\n",
      "\n",
      "EPOCH 58/100 loss: 0.2151401749525755 accuracy: 0.3958333333333333\n",
      "\n",
      "EPOCH 59/100 loss: 0.21502900862282012 accuracy: 0.3958333333333333\n",
      "\n",
      "EPOCH 60/100 loss: 0.21491598504635487 accuracy: 0.3958333333333333\n",
      "\n",
      "EPOCH 61/100 loss: 0.21479674025572962 accuracy: 0.3958333333333333\n",
      "\n",
      "EPOCH 62/100 loss: 0.21467140341042149 accuracy: 0.3958333333333333\n",
      "\n",
      "EPOCH 63/100 loss: 0.21454483916230926 accuracy: 0.3958333333333333\n",
      "\n",
      "EPOCH 64/100 loss: 0.2144169212983091 accuracy: 0.3958333333333333\n",
      "\n",
      "EPOCH 65/100 loss: 0.21428752747610758 accuracy: 0.3958333333333333\n",
      "\n",
      "EPOCH 66/100 loss: 0.214156538665629 accuracy: 0.3958333333333333\n",
      "\n",
      "EPOCH 67/100 loss: 0.21402383863862737 accuracy: 0.3958333333333333\n",
      "\n",
      "EPOCH 68/100 loss: 0.213889313500746 accuracy: 0.3958333333333333\n",
      "\n",
      "EPOCH 69/100 loss: 0.21375285126109847 accuracy: 0.3958333333333333\n",
      "\n",
      "EPOCH 70/100 loss: 0.21361434143504113 accuracy: 0.3958333333333333\n",
      "\n",
      "EPOCH 71/100 loss: 0.2134739897976088 accuracy: 0.3958333333333333\n",
      "\n",
      "EPOCH 72/100 loss: 0.21332577153169308 accuracy: 0.3958333333333333\n",
      "\n",
      "EPOCH 73/100 loss: 0.21317570251175721 accuracy: 0.3958333333333333\n",
      "\n",
      "EPOCH 74/100 loss: 0.21302365410622257 accuracy: 0.3958333333333333\n",
      "\n",
      "EPOCH 75/100 loss: 0.21286642318520657 accuracy: 0.3958333333333333\n",
      "\n",
      "EPOCH 76/100 loss: 0.2127058645998482 accuracy: 0.3958333333333333\n",
      "\n",
      "EPOCH 77/100 loss: 0.2125455982926813 accuracy: 0.3958333333333333\n",
      "\n",
      "EPOCH 78/100 loss: 0.21237772951671155 accuracy: 0.3958333333333333\n",
      "\n",
      "EPOCH 79/100 loss: 0.21220785515388807 accuracy: 0.3958333333333333\n",
      "\n",
      "EPOCH 80/100 loss: 0.2120278864248123 accuracy: 0.3958333333333333\n",
      "\n",
      "EPOCH 81/100 loss: 0.21185340411677134 accuracy: 0.3958333333333333\n",
      "\n",
      "EPOCH 82/100 loss: 0.21166983482189014 accuracy: 0.3958333333333333\n",
      "\n",
      "EPOCH 83/100 loss: 0.2114840391469199 accuracy: 0.3958333333333333\n",
      "\n",
      "EPOCH 84/100 loss: 0.21131020176912796 accuracy: 0.3958333333333333\n",
      "\n",
      "EPOCH 85/100 loss: 0.21113425871866212 accuracy: 0.3958333333333333\n",
      "\n",
      "EPOCH 86/100 loss: 0.2109552512756114 accuracy: 0.3958333333333333\n",
      "\n",
      "EPOCH 87/100 loss: 0.21076688141600264 accuracy: 0.3958333333333333\n",
      "\n",
      "EPOCH 88/100 loss: 0.21058103914939183 accuracy: 0.3958333333333333\n",
      "\n",
      "EPOCH 89/100 loss: 0.21038366955618382 accuracy: 0.3958333333333333\n",
      "\n",
      "EPOCH 90/100 loss: 0.2101840703981496 accuracy: 0.3958333333333333\n",
      "\n",
      "EPOCH 91/100 loss: 0.20998143199384525 accuracy: 0.3958333333333333\n",
      "\n",
      "EPOCH 92/100 loss: 0.2097756030411044 accuracy: 0.3958333333333333\n",
      "\n",
      "EPOCH 93/100 loss: 0.2095664321075863 accuracy: 0.40625\n",
      "\n",
      "EPOCH 94/100 loss: 0.20935328533226072 accuracy: 0.4166666666666667\n",
      "\n",
      "EPOCH 95/100 loss: 0.20912910610827398 accuracy: 0.4166666666666667\n",
      "\n",
      "EPOCH 96/100 loss: 0.20889844641876001 accuracy: 0.4375\n",
      "\n",
      "EPOCH 97/100 loss: 0.20866853053460951 accuracy: 0.4791666666666667\n",
      "\n",
      "EPOCH 98/100 loss: 0.20842935272560092 accuracy: 0.5208333333333334\n",
      "\n",
      "EPOCH 99/100 loss: 0.20818745664291663 accuracy: 0.6041666666666666\n",
      "\n",
      "EPOCH 100/100 loss: 0.20794207035072435 accuracy: 0.625\n",
      "\n"
     ]
    }
   ],
   "source": [
    "model = MultiLayerPerceptron()\n",
    "\n",
    "trainer = Trainer(model)\n",
    "train_loader = DataLoader(X_train, y_train, batch_size=batch_size)\n",
    "validation_loader = DataLoader(X_val, y_val, batch_size=len(X_val))\n",
    "loss_fn = MeanAbsoluteError() # TODO: Arreglar crossentropy (gradiente = 0 siempre)\n",
    "optimizer = GD(model, lr=learning_rate)\n",
    "history = trainer.fit(train_loader, epochs, loss_fn, optimizer, show_pbar=False)"
   ]
  },
  {
   "attachments": {},
   "cell_type": "markdown",
   "metadata": {},
   "source": [
    "Show Training History "
   ]
  },
  {
   "cell_type": "code",
   "execution_count": 10,
   "metadata": {},
   "outputs": [
    {
     "data": {
      "image/png": "[encoded data removed]",
      "text/plain": [
       "<Figure size 1080x360 with 2 Axes>"
      ]
     },
     "metadata": {
      "needs_background": "light"
     },
     "output_type": "display_data"
    }
   ],
   "source": [
    "trainer.plot(metrics=['loss', 'accuracy'])"
   ]
  },
  {
   "attachments": {},
   "cell_type": "markdown",
   "metadata": {},
   "source": [
    "Test model performance on hold out data"
   ]
  },
  {
   "cell_type": "code",
   "execution_count": 11,
   "metadata": {},
   "outputs": [],
   "source": [
    "# trainer.test()"
   ]
  }
 ],
 "metadata": {
  "kernelspec": {
   "display_name": "base",
   "language": "python",
   "name": "python3"
  },
  "language_info": {
   "codemirror_mode": {
    "name": "ipython",
    "version": 3
   },
   "file_extension": ".py",
   "mimetype": "text/x-python",
   "name": "python",
   "nbconvert_exporter": "python",
   "pygments_lexer": "ipython3",
   "version": "3.9.12"
  },
  "orig_nbformat": 4,
  "vscode": {
   "interpreter": {
    "hash": "b2e652f635080af47a587503e30de6976439f49ada01b3349f0f0746ac93a74c"
   }
  }
 },
 "nbformat": 4,
 "nbformat_minor": 2
}
