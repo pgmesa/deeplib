{
 "cells": [
  {
   "attachments": {},
   "cell_type": "markdown",
   "metadata": {},
   "source": [
    "# Neural Network Basic Example "
   ]
  },
  {
   "attachments": {},
   "cell_type": "markdown",
   "metadata": {},
   "source": [
    "#### Learning how to classify iris flowers based on a vector of features"
   ]
  },
  {
   "attachments": {},
   "cell_type": "markdown",
   "metadata": {},
   "source": [
    "Imports"
   ]
  },
  {
   "cell_type": "code",
   "execution_count": 12,
   "metadata": {},
   "outputs": [],
   "source": [
    "import deeplib\n",
    "from deeplib.models import Model, Trainer\n",
    "from deeplib.layers import Dense, Softmax, Relu\n",
    "from deeplib.utils import split_dataset, DataLoader, one_hot_encode\n",
    "from deeplib.losses import CrossEntropyLoss, MeanAbsoluteError\n",
    "from deeplib.optimizers import GD\n",
    "\n",
    "import numpy as np\n",
    "import pandas as pd"
   ]
  },
  {
   "cell_type": "code",
   "execution_count": 13,
   "metadata": {},
   "outputs": [],
   "source": [
    "# Training\n",
    "epochs = 20\n",
    "batch_size = 2\n",
    "learning_rate = 0.001\n",
    "val_split = 0.2\n",
    "test_split = 0.2"
   ]
  },
  {
   "attachments": {},
   "cell_type": "markdown",
   "metadata": {},
   "source": [
    "Load Data"
   ]
  },
  {
   "cell_type": "code",
   "execution_count": 14,
   "metadata": {},
   "outputs": [
    {
     "data": {
      "text/html": [
       "<div>\n",
       "<style scoped>\n",
       "    .dataframe tbody tr th:only-of-type {\n",
       "        vertical-align: middle;\n",
       "    }\n",
       "\n",
       "    .dataframe tbody tr th {\n",
       "        vertical-align: top;\n",
       "    }\n",
       "\n",
       "    .dataframe thead th {\n",
       "        text-align: right;\n",
       "    }\n",
       "</style>\n",
       "<table border=\"1\" class=\"dataframe\">\n",
       "  <thead>\n",
       "    <tr style=\"text-align: right;\">\n",
       "      <th></th>\n",
       "      <th>sepal_length</th>\n",
       "      <th>sepal_width</th>\n",
       "      <th>petal_length</th>\n",
       "      <th>petal_width</th>\n",
       "      <th>class</th>\n",
       "    </tr>\n",
       "  </thead>\n",
       "  <tbody>\n",
       "    <tr>\n",
       "      <th>0</th>\n",
       "      <td>5.1</td>\n",
       "      <td>3.5</td>\n",
       "      <td>1.4</td>\n",
       "      <td>0.2</td>\n",
       "      <td>iris_setosa</td>\n",
       "    </tr>\n",
       "    <tr>\n",
       "      <th>1</th>\n",
       "      <td>4.9</td>\n",
       "      <td>3.0</td>\n",
       "      <td>1.4</td>\n",
       "      <td>0.2</td>\n",
       "      <td>iris_setosa</td>\n",
       "    </tr>\n",
       "    <tr>\n",
       "      <th>2</th>\n",
       "      <td>4.7</td>\n",
       "      <td>3.2</td>\n",
       "      <td>1.3</td>\n",
       "      <td>0.2</td>\n",
       "      <td>iris_setosa</td>\n",
       "    </tr>\n",
       "    <tr>\n",
       "      <th>3</th>\n",
       "      <td>4.6</td>\n",
       "      <td>3.1</td>\n",
       "      <td>1.5</td>\n",
       "      <td>0.2</td>\n",
       "      <td>iris_setosa</td>\n",
       "    </tr>\n",
       "    <tr>\n",
       "      <th>4</th>\n",
       "      <td>5.0</td>\n",
       "      <td>3.6</td>\n",
       "      <td>1.4</td>\n",
       "      <td>0.2</td>\n",
       "      <td>iris_setosa</td>\n",
       "    </tr>\n",
       "  </tbody>\n",
       "</table>\n",
       "</div>"
      ],
      "text/plain": [
       "   sepal_length  sepal_width  petal_length   petal_width        class\n",
       "0           5.1          3.5           1.4           0.2  iris_setosa\n",
       "1           4.9          3.0           1.4           0.2  iris_setosa\n",
       "2           4.7          3.2           1.3           0.2  iris_setosa\n",
       "3           4.6          3.1           1.5           0.2  iris_setosa\n",
       "4           5.0          3.6           1.4           0.2  iris_setosa"
      ]
     },
     "execution_count": 14,
     "metadata": {},
     "output_type": "execute_result"
    }
   ],
   "source": [
    "dataset = pd.read_csv('./data/iris_flowers.csv')\n",
    "dataset.head()"
   ]
  },
  {
   "cell_type": "code",
   "execution_count": 15,
   "metadata": {},
   "outputs": [
    {
     "name": "stdout",
     "output_type": "stream",
     "text": [
      "Samples: 150\n",
      "Num Classes: 3\n",
      "Num Features: 4\n"
     ]
    }
   ],
   "source": [
    "y_df = dataset['class']\n",
    "X_df = dataset.drop('class', axis=1)\n",
    "num_features = len(X_df.columns)\n",
    "num_classes = y_df.nunique()\n",
    "X = X_df.values\n",
    "y = y_df.values\n",
    "y = one_hot_encode(y)\n",
    "print(\"Samples:\", len(y))\n",
    "print(\"Num Classes:\", num_classes)\n",
    "print(\"Num Features:\", num_features)"
   ]
  },
  {
   "cell_type": "code",
   "execution_count": 16,
   "metadata": {},
   "outputs": [
    {
     "data": {
      "text/html": [
       "<div>\n",
       "<style scoped>\n",
       "    .dataframe tbody tr th:only-of-type {\n",
       "        vertical-align: middle;\n",
       "    }\n",
       "\n",
       "    .dataframe tbody tr th {\n",
       "        vertical-align: top;\n",
       "    }\n",
       "\n",
       "    .dataframe thead th {\n",
       "        text-align: right;\n",
       "    }\n",
       "</style>\n",
       "<table border=\"1\" class=\"dataframe\">\n",
       "  <thead>\n",
       "    <tr style=\"text-align: right;\">\n",
       "      <th></th>\n",
       "      <th>sepal_length</th>\n",
       "      <th>sepal_width</th>\n",
       "      <th>petal_length</th>\n",
       "      <th>petal_width</th>\n",
       "    </tr>\n",
       "  </thead>\n",
       "  <tbody>\n",
       "    <tr>\n",
       "      <th>0</th>\n",
       "      <td>5.1</td>\n",
       "      <td>3.5</td>\n",
       "      <td>1.4</td>\n",
       "      <td>0.2</td>\n",
       "    </tr>\n",
       "    <tr>\n",
       "      <th>1</th>\n",
       "      <td>4.9</td>\n",
       "      <td>3.0</td>\n",
       "      <td>1.4</td>\n",
       "      <td>0.2</td>\n",
       "    </tr>\n",
       "    <tr>\n",
       "      <th>2</th>\n",
       "      <td>4.7</td>\n",
       "      <td>3.2</td>\n",
       "      <td>1.3</td>\n",
       "      <td>0.2</td>\n",
       "    </tr>\n",
       "    <tr>\n",
       "      <th>3</th>\n",
       "      <td>4.6</td>\n",
       "      <td>3.1</td>\n",
       "      <td>1.5</td>\n",
       "      <td>0.2</td>\n",
       "    </tr>\n",
       "    <tr>\n",
       "      <th>4</th>\n",
       "      <td>5.0</td>\n",
       "      <td>3.6</td>\n",
       "      <td>1.4</td>\n",
       "      <td>0.2</td>\n",
       "    </tr>\n",
       "  </tbody>\n",
       "</table>\n",
       "</div>"
      ],
      "text/plain": [
       "   sepal_length  sepal_width  petal_length   petal_width\n",
       "0           5.1          3.5           1.4           0.2\n",
       "1           4.9          3.0           1.4           0.2\n",
       "2           4.7          3.2           1.3           0.2\n",
       "3           4.6          3.1           1.5           0.2\n",
       "4           5.0          3.6           1.4           0.2"
      ]
     },
     "execution_count": 16,
     "metadata": {},
     "output_type": "execute_result"
    }
   ],
   "source": [
    "X_df.head()"
   ]
  },
  {
   "attachments": {},
   "cell_type": "markdown",
   "metadata": {},
   "source": [
    "Normalize values"
   ]
  },
  {
   "cell_type": "code",
   "execution_count": 17,
   "metadata": {},
   "outputs": [
    {
     "name": "stdout",
     "output_type": "stream",
     "text": [
      "(150, 4)\n",
      "1.0 0.0\n"
     ]
    }
   ],
   "source": [
    "for i in range(len(X)):\n",
    "    array = X[i]\n",
    "    X[i, :] = (array - np.min(array)) / (np.max(array) - np.min(array))\n",
    "print(X.shape)\n",
    "print(np.max(X), np.min(X))"
   ]
  },
  {
   "attachments": {},
   "cell_type": "markdown",
   "metadata": {},
   "source": [
    "Split into train and test"
   ]
  },
  {
   "cell_type": "code",
   "execution_count": 18,
   "metadata": {},
   "outputs": [
    {
     "name": "stdout",
     "output_type": "stream",
     "text": [
      "Training Samples: 96\n",
      "Validation Samples: 24\n",
      "Test Samples: 30\n"
     ]
    }
   ],
   "source": [
    "(X_train, y_train), (X_test, y_test), (X_val, y_val) = \\\n",
    "    split_dataset(X, y, test_split=test_split, val_split=val_split, shuffle=True)\n",
    "print(\"Training Samples:\", len(X_train))\n",
    "print(\"Validation Samples:\", len(X_val))\n",
    "print(\"Test Samples:\", len(X_test))"
   ]
  },
  {
   "attachments": {},
   "cell_type": "markdown",
   "metadata": {},
   "source": [
    "Define Model Architecture"
   ]
  },
  {
   "cell_type": "code",
   "execution_count": 19,
   "metadata": {},
   "outputs": [],
   "source": [
    "class MultiLayerPerceptron(Model):\n",
    "    \n",
    "    def __init__(self) -> None:\n",
    "        super().__init__()\n",
    "        input_size = num_features\n",
    "        output_size = num_classes\n",
    "\n",
    "        self.add(Dense(input_size, 4))\n",
    "        self.add(Relu())\n",
    "        self.add(Dense(4, 3))\n",
    "        self.add(Relu())\n",
    "        self.add(Dense(3, output_size))\n",
    "        #self.add(Softmax())"
   ]
  },
  {
   "attachments": {},
   "cell_type": "markdown",
   "metadata": {},
   "source": [
    "Train the model"
   ]
  },
  {
   "cell_type": "code",
   "execution_count": 20,
   "metadata": {},
   "outputs": [
    {
     "name": "stdout",
     "output_type": "stream",
     "text": [
      "EPOCH 1/20 loss: 0.2716540162458138 accuracy: 0.0\n",
      "\n",
      "EPOCH 2/20 loss: 0.24723532222657277 accuracy: 0.0\n",
      "\n",
      "EPOCH 3/20 loss: 0.23851058593880994 accuracy: 0.0\n",
      "\n",
      "EPOCH 4/20 loss: 0.23166745226384455 accuracy: 0.0\n",
      "\n",
      "EPOCH 5/20 loss: 0.2261111091431892 accuracy: 0.0\n",
      "\n",
      "EPOCH 6/20 loss: 0.2218237769590317 accuracy: 0.0\n",
      "\n",
      "EPOCH 7/20 loss: 0.2182288848609489 accuracy: 0.0\n",
      "\n",
      "EPOCH 8/20 loss: 0.2151270465089573 accuracy: 0.0\n",
      "\n",
      "EPOCH 9/20 loss: 0.2126877802637759 accuracy: 0.0\n",
      "\n",
      "EPOCH 10/20 loss: 0.210864868324806 accuracy: 0.0\n",
      "\n",
      "EPOCH 11/20 loss: 0.2093775649074825 accuracy: 0.0\n",
      "\n",
      "EPOCH 12/20 loss: 0.20804667341020952 accuracy: 0.0\n",
      "\n",
      "EPOCH 13/20 loss: 0.20698743943071488 accuracy: 0.0\n",
      "\n",
      "EPOCH 14/20 loss: 0.2059423014120159 accuracy: 0.0\n",
      "\n",
      "EPOCH 15/20 loss: 0.20514391832254883 accuracy: 0.0\n",
      "\n",
      "EPOCH 16/20 loss: 0.20448971115946257 accuracy: 0.0\n",
      "\n",
      "EPOCH 17/20 loss: 0.2038896634092281 accuracy: 0.0\n",
      "\n",
      "EPOCH 18/20 loss: 0.2033548432543131 accuracy: 0.0\n",
      "\n",
      "EPOCH 19/20 loss: 0.2028416314773007 accuracy: 0.0\n",
      "\n",
      "EPOCH 20/20 loss: 0.20234859912049583 accuracy: 0.0\n",
      "\n"
     ]
    }
   ],
   "source": [
    "model = MultiLayerPerceptron()\n",
    "\n",
    "trainer = Trainer(model)\n",
    "train_loader = DataLoader(X_train, y_train, batch_size=batch_size)\n",
    "validation_loader = DataLoader(X_val, y_val, batch_size=len(X_val))\n",
    "loss_fn = MeanAbsoluteError()\n",
    "optimizer = GD(model, lr=0.001)\n",
    "history = trainer.fit(train_loader, epochs, loss_fn, optimizer, show_pbar=False)"
   ]
  },
  {
   "attachments": {},
   "cell_type": "markdown",
   "metadata": {},
   "source": [
    "Show Training History "
   ]
  },
  {
   "cell_type": "code",
   "execution_count": 21,
   "metadata": {},
   "outputs": [
    {
     "data": {
      "image/png": "[encoded data removed]",
      "text/plain": [
       "<Figure size 1080x360 with 2 Axes>"
      ]
     },
     "metadata": {
      "needs_background": "light"
     },
     "output_type": "display_data"
    }
   ],
   "source": [
    "trainer.plot(metrics=['loss', 'accuracy'])"
   ]
  },
  {
   "attachments": {},
   "cell_type": "markdown",
   "metadata": {},
   "source": [
    "Test model performance on hold out data"
   ]
  },
  {
   "cell_type": "code",
   "execution_count": 22,
   "metadata": {},
   "outputs": [],
   "source": [
    "# trainer.test()"
   ]
  }
 ],
 "metadata": {
  "kernelspec": {
   "display_name": "base",
   "language": "python",
   "name": "python3"
  },
  "language_info": {
   "codemirror_mode": {
    "name": "ipython",
    "version": 3
   },
   "file_extension": ".py",
   "mimetype": "text/x-python",
   "name": "python",
   "nbconvert_exporter": "python",
   "pygments_lexer": "ipython3",
   "version": "3.9.12"
  },
  "orig_nbformat": 4,
  "vscode": {
   "interpreter": {
    "hash": "b2e652f635080af47a587503e30de6976439f49ada01b3349f0f0746ac93a74c"
   }
  }
 },
 "nbformat": 4,
 "nbformat_minor": 2
}
